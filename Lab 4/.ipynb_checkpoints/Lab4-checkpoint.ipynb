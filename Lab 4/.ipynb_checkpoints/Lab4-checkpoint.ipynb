{
 "cells": [
  {
   "cell_type": "markdown",
   "metadata": {},
   "source": [
    "<h1 style=\"text-align:center;\">LAB 4</h1>\n",
    "<h1 style=\"text-align:center;\">Image Segmentation</h1>\n",
    "<h3 style=\"text-align:left; color:blue;\">Student Name:</h3>\n",
    "<h3 style=\"text-align:left; color:blue;\">Student ID:</h3>"
   ]
  },
  {
   "cell_type": "markdown",
   "metadata": {},
   "source": [
    "<h2 style=\"text-align:left; color:black;\">Introduction</h2>"
   ]
  },
  {
   "cell_type": "markdown",
   "metadata": {},
   "source": [
    "Image segmentation is one of the key computer vision tasks, It separates objects, boundaries, or structures within the image for more meaningful analysis. Image segmentation plays an important role in extracting meaningful information from images, enabling computers to perceive and understand visual data in a manner that humans understand, view, and perceive."
   ]
  },
  {
   "cell_type": "markdown",
   "metadata": {},
   "source": [
    "<h2 style=\"text-align:left; color:black;\">Objective</h2>"
   ]
  },
  {
   "cell_type": "markdown",
   "metadata": {},
   "source": [
    "In this lab, you'll apply image segmentation using:\n",
    "* Canny edge detection.\n",
    "* Global and adaptive thresholding."
   ]
  },
  {
   "cell_type": "markdown",
   "metadata": {},
   "source": [
    "<h2 style=\"text-align:left; color:black;\">Instructions</h2>"
   ]
  },
  {
   "cell_type": "code",
   "execution_count": null,
   "metadata": {},
   "outputs": [],
   "source": [
    "# Import the needed libraries\n",
    "import cv2\n",
    "import numpy as np\n",
    "from matplotlib import pyplot as plt\n",
    "%matplotlib inline"
   ]
  },
  {
   "cell_type": "code",
   "execution_count": null,
   "metadata": {},
   "outputs": [],
   "source": [
    "# Read an image from disk\n",
    "input_image = cv2.imread(filename=\"lena_gray.png\", flags=cv2.IMREAD_GRAYSCALE)\n",
    "plt.imshow(input_image, cmap=\"gray\")"
   ]
  },
  {
   "cell_type": "code",
   "execution_count": null,
   "metadata": {},
   "outputs": [],
   "source": [
    "# Apply canny edge detection algorithm on the image\n",
    "# cv2.Canny() performs all the steps used in Canny detection algorithm:\n",
    "# 1. Remove the noise in the image with a 5x5 Gaussian filter.\n",
    "# 2. Find edge gradient and direction for each pixel using Sobel filter (3x3) by default.\n",
    "#    apertureSize parameter can be used to specify Sobel filter size.\n",
    "#    By default, the gradient magnitude is approximated to |Gx| + |Gy|.\n",
    "#    The accurate magnitude can be calculated by setting L2gradient parameter to true.\n",
    "# 3. Non-maximum suppression\n",
    "# 4. Hysteresis thresholding. threshold1 parameter specifies the low threshold,\n",
    "#    while the threshold2 parameter specifies the high threshold.\n",
    "edges = cv2.Canny(input_image,threshold1=80,threshold2=100, apertureSize=3, L2gradient=False)\n",
    "plt.subplots(1, 1, figsize=(7, 7))\n",
    "plt.subplot(1,1,1)\n",
    "plt.imshow(edges, cmap=\"gray\")"
   ]
  },
  {
   "cell_type": "code",
   "execution_count": null,
   "metadata": {},
   "outputs": [],
   "source": [
    "# Read an image affected by illumination from disk\n",
    "illumin_image = cv2.imread(filename=\"illumin_effect.PNG\", flags=cv2.IMREAD_GRAYSCALE)\n",
    "plt.imshow(illumin_image, cmap=\"gray\")"
   ]
  },
  {
   "cell_type": "code",
   "execution_count": null,
   "metadata": {},
   "outputs": [],
   "source": [
    "# Apply global and adaptive thresholding, compare the results\n",
    "ret,th1 = cv2.threshold(illumin_image,100,255,cv2.THRESH_BINARY)\n",
    "# Adaptive Thresholding\n",
    "# blockSize parameter is the size of neighbourhood used in calculating the mean\n",
    "# C parameter is constant c subtracted from the computed mean\n",
    "# Such that T = mean in a given blockSize- C\n",
    "th2 = cv2.adaptiveThreshold(illumin_image,maxValue=255,adaptiveMethod=cv2.ADAPTIVE_THRESH_MEAN_C,thresholdType=cv2.THRESH_BINARY, blockSize=11, C=5)\n",
    "\n",
    "plt.subplots(1, 2, figsize=(10, 10))\n",
    "plt.subplot(1,2,1)\n",
    "plt.imshow(th1, cmap=\"gray\")\n",
    "plt.subplot(1,2,2)\n",
    "plt.imshow(th2, cmap=\"gray\")"
   ]
  }
 ],
 "metadata": {
  "kernelspec": {
   "display_name": "Python 3",
   "language": "python",
   "name": "python3"
  },
  "language_info": {
   "codemirror_mode": {
    "name": "ipython",
    "version": 3
   },
   "file_extension": ".py",
   "mimetype": "text/x-python",
   "name": "python",
   "nbconvert_exporter": "python",
   "pygments_lexer": "ipython3",
   "version": "3.8.5"
  }
 },
 "nbformat": 4,
 "nbformat_minor": 5
}
