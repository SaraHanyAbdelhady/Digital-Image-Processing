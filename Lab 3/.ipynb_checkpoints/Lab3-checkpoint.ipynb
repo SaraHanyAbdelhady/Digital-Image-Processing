{
 "cells": [
  {
   "cell_type": "markdown",
   "metadata": {},
   "source": [
    "<h1 style=\"text-align:center;\">LAB 3</h1>\n",
    "<h1 style=\"text-align:center;\">Morphological Operations</h1>\n",
    "<h3 style=\"text-align:left; color:blue;\">Student Name:</h3>\n",
    "<h3 style=\"text-align:left; color:blue;\">Student ID:</h3>"
   ]
  },
  {
   "cell_type": "markdown",
   "metadata": {},
   "source": [
    "<h2 style=\"text-align:left; color:black;\">Introduction</h2>"
   ]
  },
  {
   "cell_type": "markdown",
   "metadata": {},
   "source": [
    "Morphology is a comprehensive set of image processing operations that process images based on shapes. Morphological operations apply a structuring element to an input image, creating an output image of the same size. In a morphological operation, the value of each pixel in the output image is based on a comparison of the corresponding pixel in the input image with its neighbors."
   ]
  },
  {
   "cell_type": "markdown",
   "metadata": {},
   "source": [
    "<h2 style=\"text-align:left; color:black;\">Objective</h2>"
   ]
  },
  {
   "cell_type": "markdown",
   "metadata": {},
   "source": [
    "In this lab, you'll apply different basic and advanced morphological operation to images. These operations are:</br>\n",
    "* Dilation.\n",
    "* Erosion.\n",
    "* Opening.\n",
    "* Closing.\n",
    "* Hit and Miss.\n",
    "* Boundary Extraction.\n",
    "* Region Filling.\n",
    "* Connected Components."
   ]
  },
  {
   "cell_type": "markdown",
   "metadata": {},
   "source": [
    "<h2 style=\"text-align:left; color:black;\">Instructions</h2>"
   ]
  },
  {
   "cell_type": "code",
   "execution_count": null,
   "metadata": {},
   "outputs": [],
   "source": [
    "# Import the needed libraries\n",
    "import cv2\n",
    "import numpy as np\n",
    "from matplotlib import pyplot as plt\n",
    "%matplotlib inline"
   ]
  },
  {
   "cell_type": "code",
   "execution_count": null,
   "metadata": {},
   "outputs": [],
   "source": [
    "# Read a binary image and display it\n",
    "binary_image = cv2.imread(\"image 1.png\", cv2.IMREAD_GRAYSCALE)\n",
    "plt.imshow(binary_image, cmap=\"gray\")"
   ]
  },
  {
   "cell_type": "code",
   "execution_count": null,
   "metadata": {},
   "outputs": [],
   "source": [
    "# Create a 3x3 structuring element (SE)\n",
    "SE = np.ones(shape=(3,3),dtype=np.uint8)\n",
    "print(SE)"
   ]
  },
  {
   "cell_type": "code",
   "execution_count": null,
   "metadata": {},
   "outputs": [],
   "source": [
    "# Apply dilation to the binary image using the created SE\n",
    "dilated_image = cv2.dilate(src=binary_image,kernel=SE, iterations=1)\n",
    "plt.imshow(dilated_image, cmap=\"gray\")"
   ]
  },
  {
   "cell_type": "code",
   "execution_count": null,
   "metadata": {},
   "outputs": [],
   "source": [
    "# Apply erosion to the binary image using the same SE\n",
    "eroded_image = cv2.erode(src=binary_image,kernel=SE, iterations=1)\n",
    "plt.imshow(eroded_image, cmap=\"gray\")"
   ]
  },
  {
   "cell_type": "code",
   "execution_count": null,
   "metadata": {},
   "outputs": [],
   "source": [
    "# Apply opening and closing using the same SE\n",
    "opened_image = cv2.morphologyEx(src=binary_image, op=cv2.MORPH_OPEN, kernel=SE, iterations=1)\n",
    "plt.subplots(1, 2, figsize=(15, 15))\n",
    "plt.subplot(1,2,1)\n",
    "plt.imshow(opened_image, cmap=\"gray\")\n",
    "closed_image = cv2.morphologyEx(src=binary_image, op=cv2.MORPH_CLOSE, kernel=SE, iterations=1)\n",
    "plt.subplot(1,2,2)\n",
    "plt.imshow(closed_image, cmap=\"gray\")"
   ]
  },
  {
   "cell_type": "code",
   "execution_count": null,
   "metadata": {},
   "outputs": [],
   "source": [
    "# Apply Hit and Miss to detect isolated points\n",
    "# Create a SE for hit or miss, replace pixels of foreground by 1 and pixels of background by -1\n",
    "SE2 = np.zeros(shape=(3, 3), dtype=np.int8) - 1\n",
    "SE2[1,1] = 1\n",
    "print (SE2)\n",
    "hit_miss_image = cv2.morphologyEx(src=binary_image, op=cv2.MORPH_HITMISS, kernel=SE2, iterations=1)\n",
    "plt.imshow(hit_miss_image, cmap=\"gray\")"
   ]
  },
  {
   "cell_type": "code",
   "execution_count": null,
   "metadata": {},
   "outputs": [],
   "source": [
    "# Apply boundary extraction\n",
    "binary_image2 = 255 - cv2.imread(\"spheres.png\", cv2.IMREAD_GRAYSCALE)\n",
    "plt.subplots(1, 2, figsize=(15, 15))\n",
    "plt.subplot(1,2,1)\n",
    "plt.imshow(binary_image2, cmap=\"gray\")\n",
    "\n",
    "eroded_image2 = cv2.erode(src=binary_image2, kernel=SE, iterations=1)\n",
    "boundary_extraction = binary_image2 - eroded_image2\n",
    "\n",
    "plt.subplot(1,2,2)\n",
    "plt.imshow(boundary_extraction, cmap=\"gray\")"
   ]
  },
  {
   "cell_type": "code",
   "execution_count": null,
   "metadata": {},
   "outputs": [],
   "source": [
    "binary_image3 = cv2.imread(\"region_filling.jpg\", cv2.IMREAD_GRAYSCALE)\n",
    "threshold, binary_image3 = cv2.threshold(src=binary_image3, thresh=127, maxval=1, type=cv2.THRESH_BINARY)\n",
    "# Apply region filling algorithm to fill a shape in the image starting from point [50,92]\n",
    "plt.subplots(1, 3, figsize=(15, 15))\n",
    "plt.subplot(1,3,1)\n",
    "plt.imshow(binary_image3, cmap=\"gray\")\n",
    "\n",
    "SE3 = cv2.getStructuringElement(shape=cv2.MORPH_CROSS, ksize=(25, 25))\n",
    "\n",
    "# Define a point in the region to be filled and set it to 255\n",
    "Xk = np.zeros(shape=binary_image3.shape, dtype= np.uint8)\n",
    "Xk[50,92] = 1\n",
    "Xk_1 = np.zeros(shape=binary_image3.shape, dtype= np.uint8)\n",
    "# Get the image complement\n",
    "binary_image3_C = (1 - binary_image3)\n",
    "\n",
    "# Apply the algorithm\n",
    "while not np.array_equal(Xk, Xk_1):\n",
    "    Xk_1 = Xk\n",
    "    # logical_and is equivalent to the intersection operation of set\n",
    "    Xk = np.logical_and(cv2.dilate(src=Xk_1 ,kernel=SE3, iterations=1) ,binary_image3_C).astype(np.uint8)\n",
    "\n",
    "region_filled = 255 * Xk\n",
    "region_filled_image = region_filled + 255 * binary_image3\n",
    "plt.subplot(1,3,2)\n",
    "plt.imshow(region_filled, cmap=\"gray\")\n",
    "plt.subplot(1,3,3)\n",
    "plt.imshow(region_filled_image, cmap=\"gray\")"
   ]
  },
  {
   "cell_type": "code",
   "execution_count": null,
   "metadata": {},
   "outputs": [],
   "source": [
    "# Apply connected components algorithm to binary_image starting from point [100,83]\n",
    "SE4 = cv2.getStructuringElement(shape=cv2.MORPH_RECT, ksize=(5, 5))\n",
    "\n",
    "# Define a point on the connected component to be detected (the bigger rectangle)\n",
    "Xz = np.zeros(shape=binary_image.shape, dtype= np.uint8)\n",
    "Xz[100,83] = 1\n",
    "Xz_1 = np.zeros(shape=binary_image.shape, dtype=np.uint8)\n",
    "threshold, binary_image = cv2.threshold(src=binary_image, thresh=127, maxval=1, type=cv2.THRESH_BINARY)\n",
    "\n",
    "# Apply the algorithm\n",
    "while not np.array_equal(Xz, Xz_1):\n",
    "    Xz_1 = Xz\n",
    "    Xz = np.logical_and(cv2.dilate(src=Xz_1 ,kernel=SE4, iterations=1), binary_image).astype(np.uint8)\n",
    "\n",
    "connected_component = 255 * Xz\n",
    "plt.imshow(connected_component, cmap=\"gray\")"
   ]
  }
 ],
 "metadata": {
  "kernelspec": {
   "display_name": "Python 3",
   "language": "python",
   "name": "python3"
  },
  "language_info": {
   "codemirror_mode": {
    "name": "ipython",
    "version": 3
   },
   "file_extension": ".py",
   "mimetype": "text/x-python",
   "name": "python",
   "nbconvert_exporter": "python",
   "pygments_lexer": "ipython3",
   "version": "3.8.5"
  }
 },
 "nbformat": 4,
 "nbformat_minor": 5
}
