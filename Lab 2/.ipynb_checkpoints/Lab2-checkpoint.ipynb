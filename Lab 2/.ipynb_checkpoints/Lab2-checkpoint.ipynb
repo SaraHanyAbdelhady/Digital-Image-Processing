{
 "cells": [
  {
   "cell_type": "markdown",
   "metadata": {},
   "source": [
    "<h1 style=\"text-align:center;\">LAB 2</h1>\n",
    "<h1 style=\"text-align:center;\">Frequency Domain Filtering</h1>\n",
    "<h3 style=\"text-align:left; color:blue;\">Student Name:</h3>\n",
    "<h3 style=\"text-align:left; color:blue;\">Student ID:</h3>"
   ]
  },
  {
   "cell_type": "markdown",
   "metadata": {},
   "source": [
    "<h2 style=\"text-align:left; color:black;\">Introduction</h2>"
   ]
  },
  {
   "cell_type": "markdown",
   "metadata": {},
   "source": [
    "Frequency Domain Filters are used for smoothing and sharpening of image by removal of high or low frequency components.</br>\n",
    "Frequency filters process an image in the frequency domain. The image is Fourier transformed, multiplied with the filter function and then re-transformed into the spatial domain. Attenuating high frequencies results in a smoother image in the spatial domain, attenuating low frequencies enhances the edges."
   ]
  },
  {
   "cell_type": "markdown",
   "metadata": {},
   "source": [
    "<h2 style=\"text-align:left; color:black;\">Objective</h2>"
   ]
  },
  {
   "cell_type": "markdown",
   "metadata": {},
   "source": [
    "In this lab, you'll apply some frequency domain filtering techniques to an image to smooth an image. This is done through:</br>\n",
    "* Computing DFT of an image.\n",
    "* Creating a frequency domain filter.\n",
    "* Applying the filter to the image.\n",
    "* Computing the inverse of DFT of the filtered image."
   ]
  },
  {
   "cell_type": "markdown",
   "metadata": {},
   "source": [
    "<h2 style=\"text-align:left; color:black;\">Instructions</h2>"
   ]
  },
  {
   "cell_type": "code",
   "execution_count": null,
   "metadata": {},
   "outputs": [],
   "source": [
    "# Import the needed libraries\n",
    "import cv2\n",
    "import numpy as np\n",
    "from matplotlib import pyplot as plt\n",
    "%matplotlib inline"
   ]
  },
  {
   "cell_type": "code",
   "execution_count": null,
   "metadata": {},
   "outputs": [],
   "source": [
    "# Read an image from disk\n",
    "image = cv2.imread(filename=\"lena_gray.png\", flags=cv2.IMREAD_GRAYSCALE)"
   ]
  },
  {
   "cell_type": "code",
   "execution_count": null,
   "metadata": {},
   "outputs": [],
   "source": [
    "# Apply DFT on the image then shift the origin to the center of the image\n",
    "def DFT(image):\n",
    "    # Get the Fourier transform\n",
    "        # Convert the image to float32, without changing it an error occurs stating that the src type should be float32 or float64\n",
    "        # Add cv2.DFT_COMPLEX_OUTPUT to get the real and imaginary output in fft_image[:,:,0] and fft_image[:,:,1]\n",
    "    fft_image = cv2.dft(src=np.float32(image), flags=cv2.DFT_COMPLEX_OUTPUT)\n",
    "    # Shift the origin from top left to the center\n",
    "    shifted_fft = np.fft.fftshift(fft_image)\n",
    "    return shifted_fft\n",
    "shifted_fft = DFT(image)\n",
    "print (shifted_fft.shape)"
   ]
  },
  {
   "cell_type": "code",
   "execution_count": null,
   "metadata": {},
   "outputs": [],
   "source": [
    "# Display DFT result\n",
    "def display_DFT(shifted_fft):\n",
    "    # Convert to log scale\n",
    "    magnitude_spectrum = np.log(1 + cv2.magnitude(shifted_fft[:, :, 0], shifted_fft[:, :, 1]))\n",
    "    # Normalize the image to range from 0 to 255 before displaying it\n",
    "    normalized_magnitude = cv2.normalize(magnitude_spectrum, None, 0, 255, cv2.NORM_MINMAX, cv2.CV_8U)\n",
    "    return normalized_magnitude\n",
    "normalized_dft = display_DFT(shifted_fft)\n",
    "plt.imshow(normalized_dft, cmap=\"gray\")"
   ]
  },
  {
   "cell_type": "code",
   "execution_count": null,
   "metadata": {},
   "outputs": [],
   "source": [
    "# Create an ideal LPF\n",
    "rows = shifted_fft.shape[0]\n",
    "cols = shifted_fft.shape[1]\n",
    "temp = np.zeros(shape=shifted_fft.shape, dtype=np.uint8)\n",
    "print(temp.shape)\n",
    "cv2.circle(img=temp, center=(rows // 2, cols // 2), radius= 60, color=(1,1), thickness=-1) # Negative thickness value means that it is filled\n",
    "lpf = temp                          # for hpf, try 1 - temp\n",
    "plt.imshow(lpf[:,:,0] * 255, cmap=\"gray\")"
   ]
  },
  {
   "cell_type": "code",
   "execution_count": null,
   "metadata": {},
   "outputs": [],
   "source": [
    "# Apply the filter to the image\n",
    "shifted_filtered_fft = lpf * shifted_fft"
   ]
  },
  {
   "cell_type": "code",
   "execution_count": null,
   "metadata": {},
   "outputs": [],
   "source": [
    "# Compute the inverse DFT of the filtered image and display it\n",
    "def IDFT(shifted_fft):\n",
    "    # Get the image back using inverse DFT\n",
    "    unshifted_ifft = np.fft.ifftshift(shifted_fft)\n",
    "    idft_image = cv2.idft(src=unshifted_ifft)\n",
    "    restored_image = cv2.magnitude(idft_image[:, :, 0], idft_image[:, :, 1])\n",
    "    # Normalize the image to range from 0 to 255 before displaying it\n",
    "    restored_image = cv2.normalize(restored_image, None, 0, 255, cv2.NORM_MINMAX, cv2.CV_8U)\n",
    "    return restored_image\n",
    "\n",
    "restored_image = IDFT(shifted_filtered_fft)\n",
    "plt.subplots(1,1,figsize=(7,7))\n",
    "plt.imshow(restored_image, cmap=\"gray\")"
   ]
  }
 ],
 "metadata": {
  "kernelspec": {
   "display_name": "Python 3",
   "language": "python",
   "name": "python3"
  },
  "language_info": {
   "codemirror_mode": {
    "name": "ipython",
    "version": 3
   },
   "file_extension": ".py",
   "mimetype": "text/x-python",
   "name": "python",
   "nbconvert_exporter": "python",
   "pygments_lexer": "ipython3",
   "version": "3.8.5"
  }
 },
 "nbformat": 4,
 "nbformat_minor": 5
}
