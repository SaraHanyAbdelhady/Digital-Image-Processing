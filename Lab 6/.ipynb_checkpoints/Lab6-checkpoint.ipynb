{
 "cells": [
  {
   "cell_type": "markdown",
   "metadata": {},
   "source": [
    "<h1 style=\"text-align:center;\">LAB 6</h1>\n",
    "<h1 style=\"text-align:center;\">Harris Corner Detection</h1>\n",
    "<h3 style=\"text-align:left; color:blue;\">Student Name:</h3>\n",
    "<h3 style=\"text-align:left; color:blue;\">Student ID:</h3>"
   ]
  },
  {
   "cell_type": "markdown",
   "metadata": {},
   "source": [
    "<h2 style=\"text-align:left; color:black;\">Introduction</h2>"
   ]
  },
  {
   "cell_type": "markdown",
   "metadata": {},
   "source": [
    "Harris Corner Detector is a corner detection operator that is commonly used in computer vision algorithms to extract corners and infer features of an image. It was first introduced by Chris Harris and Mike Stephens in 1988 upon the improvement of Moravec’s corner detector. Compared to the previous one, Harris’ corner detector takes the differential of the corner score into account with reference to direction directly, instead of using shifting patches for every 45-degree angles, and has been proved to be more accurate in distinguishing between edges and corners. Since then, it has been improved and adopted in many algorithms to preprocess images for subsequent applications."
   ]
  },
  {
   "cell_type": "markdown",
   "metadata": {},
   "source": [
    "<h2 style=\"text-align:left; color:black;\">Objective</h2>"
   ]
  },
  {
   "cell_type": "markdown",
   "metadata": {},
   "source": [
    "In this lab, you'll apply Harris corner detection algorithm to detect the corners in an image."
   ]
  },
  {
   "cell_type": "markdown",
   "metadata": {},
   "source": [
    "<h2 style=\"text-align:left; color:black;\">Instructions</h2>"
   ]
  },
  {
   "cell_type": "code",
   "execution_count": null,
   "metadata": {},
   "outputs": [],
   "source": [
    "# Import the needed libraries\n",
    "import cv2\n",
    "import numpy as np\n",
    "from matplotlib import pyplot as plt\n",
    "import pylab\n",
    "pylab.rcParams['figure.figsize'] = [10., 8.]\n",
    "%matplotlib inline"
   ]
  },
  {
   "cell_type": "code",
   "execution_count": null,
   "metadata": {},
   "outputs": [],
   "source": [
    "# Read an image from disk\n",
    "image = cv2.imread(filename=\"Chess.png\", flags=cv2.IMREAD_GRAYSCALE)\n",
    "plt.imshow(image, cmap=\"gray\")"
   ]
  },
  {
   "cell_type": "code",
   "execution_count": null,
   "metadata": {},
   "outputs": [],
   "source": [
    "# Apply Harris Corner Detection\n",
    "float_image = np.float32(image)\n",
    "# blockSize parameter: window size, ksize parameter:Gradient kernel size, Fourth parameter: k\n",
    "corners = cv2.cornerHarris(float_image,blockSize=2,ksize=3,k=0.04)"
   ]
  },
  {
   "cell_type": "code",
   "execution_count": null,
   "metadata": {},
   "outputs": [],
   "source": [
    "# Threshold the corners\n",
    "threshold, thresh_corners = cv2.threshold(src=corners, thresh=200, maxval=255, type=cv2.THRESH_BINARY)\n",
    "plt.imshow(thresh_corners, cmap=\"gray\")"
   ]
  },
  {
   "cell_type": "code",
   "execution_count": null,
   "metadata": {},
   "outputs": [],
   "source": [
    "# Apply opening to improve the quality of detected corners\n",
    "SE = np.ones(shape=(3,3),dtype=np.uint8)\n",
    "opened_corners = cv2.morphologyEx(src=thresh_corners, op=cv2.MORPH_OPEN, kernel=SE, iterations=1)\n",
    "plt.imshow(opened_corners, cmap=\"gray\")"
   ]
  }
 ],
 "metadata": {
  "kernelspec": {
   "display_name": "Python 3",
   "language": "python",
   "name": "python3"
  },
  "language_info": {
   "codemirror_mode": {
    "name": "ipython",
    "version": 3
   },
   "file_extension": ".py",
   "mimetype": "text/x-python",
   "name": "python",
   "nbconvert_exporter": "python",
   "pygments_lexer": "ipython3",
   "version": "3.8.5"
  }
 },
 "nbformat": 4,
 "nbformat_minor": 5
}
